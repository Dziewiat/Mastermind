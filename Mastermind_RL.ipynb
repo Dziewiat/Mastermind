{
  "nbformat": 4,
  "nbformat_minor": 0,
  "metadata": {
    "colab": {
      "provenance": []
    },
    "kernelspec": {
      "name": "python3",
      "display_name": "Python 3"
    },
    "language_info": {
      "name": "python"
    }
  },
  "cells": [
    {
      "cell_type": "code",
      "execution_count": 1,
      "metadata": {
        "id": "MJ7igYhKrae_"
      },
      "outputs": [],
      "source": [
        "# Score to measure reward\n",
        "def judge(k, n, query, hidden):\n",
        "    full_hits = 0\n",
        "    color_hits = 0\n",
        "    query_copy = query[:]\n",
        "    hidden_copy = hidden[:]\n",
        "\n",
        "    for q,h in zip(query,hidden):\n",
        "        if q == h:\n",
        "            full_hits += 1\n",
        "            query_copy.remove(q)\n",
        "            hidden_copy.remove(h)\n",
        "\n",
        "    for q in query_copy:\n",
        "        if q in hidden_copy:\n",
        "            color_hits += 1\n",
        "            hidden_copy.remove(q)\n",
        "\n",
        "    return full_hits, color_hits"
      ]
    },
    {
      "cell_type": "code",
      "source": [
        "import random\n",
        "\n",
        "# Game\n",
        "class MastermindAI:\n",
        "    def __init__(self, k, n, max_rounds, hidden=None):\n",
        "        self.k = k\n",
        "        self.n = n\n",
        "        if hidden:\n",
        "            self.hidden = hidden\n",
        "        else:\n",
        "            self.hidden = self.generate_hidden()\n",
        "        self.round_n = 0\n",
        "        self.max_rounds = max_rounds\n",
        "        self.done = False\n",
        "        self.game_over = False\n",
        "        self.last_query = None\n",
        "        self.last_judgement = (0,0)\n",
        "        self.duplicated_query = False\n",
        "\n",
        "    def generate_hidden(self):\n",
        "        hidden = [random.randint(1,self.k) for color in range(self.n)]\n",
        "        return hidden\n",
        "\n",
        "    def play_step(self, query):\n",
        "        self.round_n += 1\n",
        "        reward = 0\n",
        "        X0, Y0 = self.last_judgement\n",
        "        X1, Y1 = judge(self.k, self.n, query, self.hidden)  # full hits and color hits\n",
        "        reward = self.n * (X1 - X0) * 10 + (Y1 - Y0) * 10  # Reward for the difference hits between rounds (1 full hit reward = n color hits)\n",
        "        if X1 == 4:\n",
        "            self.done = True\n",
        "            # self.score += 1\n",
        "        if self.round_n >= self.max_rounds:\n",
        "            # reward = -10 * self.n  # Penalty for loss\n",
        "            self.game_over = True\n",
        "        # Penalty for guessing out of E0???\n",
        "        # Penalty for duplicating a query\n",
        "        if query == self.last_query:\n",
        "            reward = -self.n\n",
        "            self.duplicated_query = True\n",
        "        else:\n",
        "            self.duplicated_query = False\n",
        "        self.last_query = query\n",
        "        self.last_judgement = (X1, Y1)\n",
        "        return reward, self.round_n, self.done, self.game_over\n",
        "\n",
        "    def reset(self, hidden=None):\n",
        "        # Initialize game state\n",
        "        if hidden:\n",
        "            self.hidden = hidden\n",
        "        else:\n",
        "            self.hidden = self.generate_hidden()\n",
        "        self.round_n = 0\n",
        "        self.done = False\n",
        "        self.game_over = False\n",
        "        self.last_query = None"
      ],
      "metadata": {
        "id": "p-JhuCZ9b6fk"
      },
      "execution_count": 2,
      "outputs": []
    },
    {
      "cell_type": "code",
      "source": [
        "import numpy as np\n",
        "import torch\n",
        "import torch.nn.functional as F\n",
        "import os\n",
        "\n",
        "\n",
        "# Model\n",
        "class Linear_QNet(torch.nn.Module):\n",
        "    def __init__(self, k, n, hidden_size):\n",
        "        super(Linear_QNet, self).__init__()\n",
        "        self.k = k\n",
        "        self.n = n\n",
        "        self.flatten = torch.nn.Flatten(1,-1)\n",
        "        self.linear1 = torch.nn.Linear(self.k*self.n, hidden_size)\n",
        "        self.linear2 = torch.nn.Linear(hidden_size, self.k*self.n)\n",
        "\n",
        "    def forward(self, x, batch_size=1):\n",
        "        # Frequency matrix\n",
        "        scaler = x.detach().clone()\n",
        "\n",
        "        # Flatten k x n color position count matrix\n",
        "        x = self.flatten(x)\n",
        "\n",
        "        # Input layer\n",
        "        x = self.linear1(x)\n",
        "        x = F.relu(x)\n",
        "\n",
        "        # Hidden layer\n",
        "        x = self.linear2(x)\n",
        "\n",
        "        # Reshape to k x n position probability matrix\n",
        "        x = torch.reshape(x, (batch_size, self.k, self.n))\n",
        "\n",
        "        # Change all values to positive\n",
        "        x = torch.abs(x)\n",
        "\n",
        "        # Scale output by frequency matrix -> reduce positons not present in E0, enhance more frequent positions\n",
        "        x = x * scaler  # ???\n",
        "\n",
        "        return x\n",
        "\n",
        "    def save(self, filename='model.pth'):\n",
        "        model_folder_path = './model'\n",
        "        if not os.path.exists(model_folder_path):\n",
        "            os.makedirs(model_folder_path)\n",
        "\n",
        "        filepath = os.path.join(model_folder_path, filename)\n",
        "        torch.save(self.state_dict(), filepath)\n",
        "\n",
        "\n",
        "class QTrainer:\n",
        "    def __init__(self, model: Linear_QNet, lr, gamma):\n",
        "        self.model = model\n",
        "        self.lr = lr\n",
        "        self.gamma = gamma\n",
        "        self.optimizer = torch.optim.Adam(model.parameters(), lr=self.lr)\n",
        "        self.criterion = torch.nn.MSELoss()\n",
        "\n",
        "    def train_step(self, state, query, reward, next_state, done, game_over):\n",
        "        state = torch.tensor(state, dtype=torch.float)\n",
        "        query = torch.tensor(query, dtype=torch.float)\n",
        "        reward = torch.tensor(reward, dtype=torch.float)\n",
        "        next_state = torch.tensor(next_state, dtype=torch.float)\n",
        "\n",
        "        if len(state.shape) == 2:  # Two dimentional vector for short memory training\n",
        "            # shape(1,x) -> iterate through 1 sample the same as through batch\n",
        "            state = torch.unsqueeze(state, 0)\n",
        "            query = torch.unsqueeze(query, 0)\n",
        "            reward = torch.unsqueeze(reward, 0)\n",
        "            next_state = torch.unsqueeze(next_state, 0)\n",
        "            done = (done, )\n",
        "            game_over = (game_over, )\n",
        "\n",
        "        # 1: predicted Q-values with current state\n",
        "        prediction = self.model(state, batch_size=state.shape[0])\n",
        "        # prediction = torch.reshape(prediction, (self.model.k, self.model.n))  # Reshape to k x n position probability matrix\n",
        "        # if len(prediction.shape) == 2:\n",
        "        #     prediction = torch.unsqueeze(prediction, 0)  # ???\n",
        "\n",
        "        target = prediction.clone()\n",
        "        for i in range(len(done)):\n",
        "            Q_new = np.full((target.shape[2], ), float(reward[i])) # Full hit reward scaled so 1 full hit == n color hits\n",
        "            if not game_over[i] and not done[i]:  # Separate reward for the win or not?\n",
        "                Q_new = reward[i] + self.gamma * torch.max(self.model(torch.unsqueeze(next_state[i], 0)), 1).values.detach().numpy()[0]\n",
        "\n",
        "            for j, arg_idx in enumerate([int(color-1) for color in query[i]]):\n",
        "                target[i][arg_idx][j] = Q_new[j]  # Set max value in each position to Q_new\n",
        "\n",
        "        # 2: Q_new = Reward + gamma * max(next_predicted Q-value) -> only do this if not done or game_over\n",
        "        self.optimizer.zero_grad()\n",
        "        loss = self.criterion(target, prediction)\n",
        "        loss.backward()\n",
        "\n",
        "        self.optimizer.step()\n",
        "\n",
        "\n",
        "print(Linear_QNet(8,4,256))"
      ],
      "metadata": {
        "id": "YqiaQBI_Ia71",
        "colab": {
          "base_uri": "https://localhost:8080/"
        },
        "outputId": "d70201fd-1545-4deb-8a04-3ac88c4c04de"
      },
      "execution_count": 3,
      "outputs": [
        {
          "output_type": "stream",
          "name": "stdout",
          "text": [
            "Linear_QNet(\n",
            "  (flatten): Flatten(start_dim=1, end_dim=-1)\n",
            "  (linear1): Linear(in_features=32, out_features=256, bias=True)\n",
            "  (linear2): Linear(in_features=256, out_features=32, bias=True)\n",
            ")\n"
          ]
        }
      ]
    },
    {
      "cell_type": "code",
      "source": [
        "import matplotlib.pyplot as plt\n",
        "from IPython import display\n",
        "\n",
        "# Helper\n",
        "plt.ion()\n",
        "\n",
        "def plot(scores, mean_scores):\n",
        "    display.clear_output(wait=True)\n",
        "    display.display(plt.gcf())\n",
        "    plt.clf()\n",
        "    plt.title('Training...')\n",
        "    plt.xlabel('Number of Games')\n",
        "    plt.ylabel('Score')\n",
        "    plt.plot(scores)\n",
        "    plt.plot(mean_scores)\n",
        "    plt.ylim(ymin=0)\n",
        "    plt.text(len(scores)-1, scores[-1], str(scores[-1]))\n",
        "    plt.text(len(mean_scores)-1, mean_scores[-1], str(mean_scores[-1]))"
      ],
      "metadata": {
        "id": "HGupas59KNHo"
      },
      "execution_count": 4,
      "outputs": []
    },
    {
      "cell_type": "code",
      "source": [
        "from copy import deepcopy\n",
        "import numpy as np\n",
        "import torch\n",
        "from itertools import product\n",
        "from collections import deque\n",
        "\n",
        "# Agent\n",
        "MAX_MEMORY = 100_000\n",
        "BATCH_SIZE = 1000\n",
        "LR = 0.01\n",
        "\n",
        "\n",
        "class Agent:\n",
        "\n",
        "    def __init__(self, k, n):\n",
        "        self.k = k\n",
        "        self.n = n\n",
        "        self.n_games = 0\n",
        "        self.epsilon = 0  # randomness\n",
        "        self.gamma = 0.9  # discount rate\n",
        "        self.memory = deque(maxlen=MAX_MEMORY)  # pop left if MAX_MEMORY is reached\n",
        "        self.possible_sequences = [list(i) for i in product([j for j in range(1,self.k+1)], repeat=self.n)]  # All possible sequences\n",
        "        self.E0 = self.possible_sequences[:] # All eligable sequences\n",
        "        self.E0_encoded = np.full((self.k,self.n), pow(self.k, self.n-1))  # Color position count matrix for all possible sequences (k colors x n sequence length)\n",
        "        self.model = Linear_QNet(self.k, self.n, 256)  # Hidden layers tweakable\n",
        "        self.trainer = QTrainer(self.model, lr=LR, gamma=self.gamma)\n",
        "\n",
        "\n",
        "    def get_state(self, game: MastermindAI) -> list[int]:\n",
        "        # Color position count matrix for eligable sequences\n",
        "        E1 = []\n",
        "        E1_encoded = np.full_like(self.E0_encoded, 0)\n",
        "\n",
        "        if game.last_query:\n",
        "            last_query = game.last_query\n",
        "            X0, Y0 = game.last_judgement\n",
        "            if not game.duplicated_query and last_query in self.E0:  # ???\n",
        "                for sequence in self.E0:\n",
        "                    X1, Y1 = judge(self.k, self.n, sequence, last_query)\n",
        "                    if X0 == X1 and Y0 == Y1:\n",
        "                        E1.append(sequence)\n",
        "                        for i, color in enumerate(sequence):\n",
        "                            E1_encoded[color-1,i] += 1\n",
        "\n",
        "                # Update E0\n",
        "                self.E0 = E1\n",
        "                self.E0_encoded = E1_encoded\n",
        "\n",
        "        return self.E0_encoded\n",
        "\n",
        "\n",
        "    def remember(self, state, query, reward, next_state, done, game_over):\n",
        "        self.memory.append((state, query, reward, next_state, done, game_over))\n",
        "\n",
        "\n",
        "    def train_long_memory(self):\n",
        "        if len(self.memory) > BATCH_SIZE:\n",
        "            mini_batch = random.sample(self.memory, BATCH_SIZE)  # list of tuples\n",
        "        else:\n",
        "            mini_batch = self.memory\n",
        "\n",
        "        states, queries, rewards, next_states, dones, game_overs = zip(*mini_batch)\n",
        "        self.trainer.train_step(states, queries, rewards, next_states, dones, game_overs)\n",
        "\n",
        "\n",
        "    def train_short_memory(self, state, query, reward, next_state, done, game_over):\n",
        "        self.trainer.train_step(state, query, reward, next_state, done, game_over)\n",
        "\n",
        "\n",
        "    def get_action(self, state):\n",
        "        # random moves: tradeoff exploration vs exploitation\n",
        "        # While the game progresses actions tend to be less random\n",
        "        self.epsilon = 100 - self.n_games  # TWEAK\n",
        "        if random.randint(0,200) < self.epsilon:\n",
        "            final_query = random.sample(self.possible_sequences, 1)[0]\n",
        "\n",
        "        else:\n",
        "            state = torch.tensor(state, dtype=torch.float)\n",
        "            state = torch.unsqueeze(state, 0)\n",
        "            prediction = self.model(state)[0]\n",
        "            # prediction = torch.reshape(prediction, (self.model.k, self.model.n))  # Reshape to k x n position probability matrix\n",
        "            query_encoded = torch.argmax(prediction, dim=0).tolist()\n",
        "            final_query = [color+1 for color in query_encoded]\n",
        "\n",
        "        return final_query\n",
        "\n",
        "\n",
        "    def reset(self):\n",
        "        self.E0 = self.possible_sequences[:] # All eligable sequences\n",
        "        self.E0_encoded = np.full((self.k,self.n), pow(self.k, self.n-1))  # Color position count matrix for all possible sequences (k colors x n sequence length)\n",
        "\n",
        "\n",
        "\n",
        "def train(k, n, max_rounds, hidden=None):\n",
        "    plot_scores = []\n",
        "    plot_mean_scores = []\n",
        "    total_score = 0\n",
        "    record = 100\n",
        "    agent = Agent(k, n)\n",
        "    game = MastermindAI(k, n, max_rounds, hidden)\n",
        "    while True:\n",
        "        # Get old state\n",
        "        # state_old = agent.get_state(game)\n",
        "        state_old = agent.E0_encoded\n",
        "\n",
        "        # Get guess\n",
        "        final_query = agent.get_action(state_old)\n",
        "\n",
        "        # Perform guess and get new state\n",
        "        reward, score, done, game_over = game.play_step(final_query)\n",
        "        state_new = agent.get_state(game)\n",
        "\n",
        "        # # Penalty for guessing out of E0\n",
        "        # if final_query not in agent.E0:\n",
        "        #     reward = -10 * game.n\n",
        "\n",
        "        # Train short memory\n",
        "        agent.train_short_memory(state_old, final_query, reward, state_new, done, game_over)\n",
        "\n",
        "        # Remember\n",
        "        agent.remember(state_old, final_query, reward, state_new, done, game_over)\n",
        "\n",
        "        if done or game_over:\n",
        "            # Train long memory, plot result\n",
        "            game.reset()\n",
        "            agent.reset()\n",
        "            agent.n_games += 1\n",
        "            agent.train_long_memory()\n",
        "\n",
        "            if score < record:\n",
        "                record = score\n",
        "                # agent.model.save()\n",
        "\n",
        "            print(f'Game: {agent.n_games} | Score: {score} | Record: {record}')\n",
        "\n",
        "            plot_scores.append(score)\n",
        "            total_score += score\n",
        "            mean_score = round(total_score / agent.n_games, 2)\n",
        "            plot_mean_scores.append(mean_score)\n",
        "            plot(plot_scores, plot_mean_scores)\n",
        "\n",
        "\n",
        "\n",
        "if __name__ == '__main__':\n",
        "    train(8, 4, 1000)"
      ],
      "metadata": {
        "id": "Kopfy2JfUpps",
        "colab": {
          "base_uri": "https://localhost:8080/",
          "height": 489
        },
        "outputId": "87723f33-2056-4311-cb89-333f66b0cdd5"
      },
      "execution_count": null,
      "outputs": [
        {
          "output_type": "display_data",
          "data": {
            "text/plain": [
              "<Figure size 640x480 with 1 Axes>"
            ],
            "image/png": "[encoded data removed]"
          },
          "metadata": {}
        },
        {
          "output_type": "stream",
          "name": "stdout",
          "text": [
            "Game: 11662 | Score: 384 | Record: 1\n"
          ]
        }
      ]
    },
    {
      "cell_type": "code",
      "source": [
        "state = torch.tensor(np.array([[4,1,5],[5,1,4],[1,5,4],[5,4,1]]), dtype=torch.float)\n",
        "print(state)\n",
        "query_encode = torch.max(state, dim=0)\n",
        "print(query_encode)\n",
        "print([color+1 for color in query_encode])"
      ],
      "metadata": {
        "colab": {
          "base_uri": "https://localhost:8080/"
        },
        "id": "RDi4T7IZt-xG",
        "outputId": "594c8acb-da37-449f-d421-78c7e401a088"
      },
      "execution_count": null,
      "outputs": [
        {
          "output_type": "stream",
          "name": "stdout",
          "text": [
            "tensor([[4., 1., 5.],\n",
            "        [5., 1., 4.],\n",
            "        [1., 5., 4.],\n",
            "        [5., 4., 1.]])\n",
            "torch.return_types.max(\n",
            "values=tensor([5., 5., 5.]),\n",
            "indices=tensor([1, 2, 0]))\n",
            "[tensor([6., 6., 6.]), tensor([2, 3, 1])]\n"
          ]
        }
      ]
    },
    {
      "cell_type": "code",
      "source": [
        "criterion = torch.nn.MSELoss()\n",
        "state2 = torch.tensor(np.array([[4,1,9],[9,1,4],[1,9,4],[5,4,1]]), dtype=torch.float)\n",
        "criterion(state, state2)"
      ],
      "metadata": {
        "colab": {
          "base_uri": "https://localhost:8080/"
        },
        "id": "8LkxbKAjput1",
        "outputId": "b7699e2e-f689-41d0-dd91-c814816b1c32"
      },
      "execution_count": null,
      "outputs": [
        {
          "output_type": "execute_result",
          "data": {
            "text/plain": [
              "tensor(4.)"
            ]
          },
          "metadata": {},
          "execution_count": 97
        }
      ]
    },
    {
      "cell_type": "code",
      "source": [
        "x = torch.nn.Flatten(1, -1)\n",
        "state_flat = x(state)\n",
        "print(state_flat)\n",
        "state_reshape = torch.reshape(state_flat, (4,3))\n",
        "print(state_reshape)\n",
        "state_unsqueeze = torch.unsqueeze(state_reshape, 0)\n",
        "state_unsqueeze2 = torch.cat((state_unsqueeze, state_unsqueeze), 0)\n",
        "print(state_unsqueeze2)\n",
        "print(x(state_unsqueeze2))\n",
        "\n",
        "print(torch.max(state_unsqueeze, 1))\n",
        "\n",
        "model = Linear_QNet(4,3,256)\n",
        "pred = model(state_unsqueeze2, 2)\n",
        "print(pred)"
      ],
      "metadata": {
        "colab": {
          "base_uri": "https://localhost:8080/"
        },
        "id": "QNJ7iVQY2SaT",
        "outputId": "37a2f0e4-6443-45b2-d776-8d02891b6a40"
      },
      "execution_count": null,
      "outputs": [
        {
          "output_type": "stream",
          "name": "stdout",
          "text": [
            "tensor([[4., 1., 5.],\n",
            "        [5., 1., 4.],\n",
            "        [1., 5., 4.],\n",
            "        [5., 4., 1.]])\n",
            "tensor([[4., 1., 5.],\n",
            "        [5., 1., 4.],\n",
            "        [1., 5., 4.],\n",
            "        [5., 4., 1.]])\n",
            "tensor([[[4., 1., 5.],\n",
            "         [5., 1., 4.],\n",
            "         [1., 5., 4.],\n",
            "         [5., 4., 1.]],\n",
            "\n",
            "        [[4., 1., 5.],\n",
            "         [5., 1., 4.],\n",
            "         [1., 5., 4.],\n",
            "         [5., 4., 1.]]])\n",
            "tensor([[4., 1., 5., 5., 1., 4., 1., 5., 4., 5., 4., 1.],\n",
            "        [4., 1., 5., 5., 1., 4., 1., 5., 4., 5., 4., 1.]])\n",
            "torch.return_types.max(\n",
            "values=tensor([[5., 5., 5.]]),\n",
            "indices=tensor([[1, 2, 0]]))\n",
            "tensor([[[ 0.0423, -2.2662, -0.2586],\n",
            "         [ 0.2928, -0.1103,  2.0704],\n",
            "         [-0.8288, -0.3948,  0.4991],\n",
            "         [ 0.7937,  0.4156, -0.7626]],\n",
            "\n",
            "        [[ 0.0423, -2.2662, -0.2586],\n",
            "         [ 0.2928, -0.1103,  2.0704],\n",
            "         [-0.8288, -0.3948,  0.4991],\n",
            "         [ 0.7937,  0.4156, -0.7626]]], grad_fn=<ViewBackward0>)\n"
          ]
        }
      ]
    },
    {
      "cell_type": "code",
      "source": [
        "game = MastermindAI(4, 3, 100)\n",
        "print(game.hidden)\n",
        "agent = Agent(4, 3)\n",
        "print(agent.get_state(game))\n",
        "print(agent.E0)\n",
        "game.last_query = [1,1]\n",
        "game.last_reward = judge(4,3,game.hidden,[1,1,4])\n",
        "print(agent.get_state(game))\n",
        "print(agent.E0)"
      ],
      "metadata": {
        "colab": {
          "base_uri": "https://localhost:8080/"
        },
        "id": "nQoFtnEXvkFB",
        "outputId": "43cbdbf0-f158-4df5-a77c-2fe5a95b7a62"
      },
      "execution_count": null,
      "outputs": [
        {
          "output_type": "stream",
          "name": "stdout",
          "text": [
            "[3, 2, 2]\n",
            "[[16 16 16]\n",
            " [16 16 16]\n",
            " [16 16 16]\n",
            " [16 16 16]]\n",
            "[[1, 1, 1], [1, 1, 2], [1, 1, 3], [1, 1, 4], [1, 2, 1], [1, 2, 2], [1, 2, 3], [1, 2, 4], [1, 3, 1], [1, 3, 2], [1, 3, 3], [1, 3, 4], [1, 4, 1], [1, 4, 2], [1, 4, 3], [1, 4, 4], [2, 1, 1], [2, 1, 2], [2, 1, 3], [2, 1, 4], [2, 2, 1], [2, 2, 2], [2, 2, 3], [2, 2, 4], [2, 3, 1], [2, 3, 2], [2, 3, 3], [2, 3, 4], [2, 4, 1], [2, 4, 2], [2, 4, 3], [2, 4, 4], [3, 1, 1], [3, 1, 2], [3, 1, 3], [3, 1, 4], [3, 2, 1], [3, 2, 2], [3, 2, 3], [3, 2, 4], [3, 3, 1], [3, 3, 2], [3, 3, 3], [3, 3, 4], [3, 4, 1], [3, 4, 2], [3, 4, 3], [3, 4, 4], [4, 1, 1], [4, 1, 2], [4, 1, 3], [4, 1, 4], [4, 2, 1], [4, 2, 2], [4, 2, 3], [4, 2, 4], [4, 3, 1], [4, 3, 2], [4, 3, 3], [4, 3, 4], [4, 4, 1], [4, 4, 2], [4, 4, 3], [4, 4, 4]]\n",
            "[[0 0 0]\n",
            " [9 9 9]\n",
            " [9 9 9]\n",
            " [9 9 9]]\n",
            "[[2, 2, 2], [2, 2, 3], [2, 2, 4], [2, 3, 2], [2, 3, 3], [2, 3, 4], [2, 4, 2], [2, 4, 3], [2, 4, 4], [3, 2, 2], [3, 2, 3], [3, 2, 4], [3, 3, 2], [3, 3, 3], [3, 3, 4], [3, 4, 2], [3, 4, 3], [3, 4, 4], [4, 2, 2], [4, 2, 3], [4, 2, 4], [4, 3, 2], [4, 3, 3], [4, 3, 4], [4, 4, 2], [4, 4, 3], [4, 4, 4]]\n"
          ]
        }
      ]
    },
    {
      "cell_type": "code",
      "source": [
        "# Game\n",
        "k = 8\n",
        "n = 4\n",
        "hidden = [3,1,7,2]\n",
        "X1, Y1 = 0, 0\n",
        "\n",
        "while X1 < 4:\n",
        "    guess = input(\"Your query: \")\n",
        "    query = [int(color) for color in guess.split()]\n",
        "    X1, Y1 = judge(k,n,query,hidden)\n",
        "    print(X1, Y1)\n",
        "\n",
        "print('Congrats')"
      ],
      "metadata": {
        "colab": {
          "base_uri": "https://localhost:8080/"
        },
        "id": "88oKWCV4y1Tx",
        "outputId": "3057d6d5-fce8-45d7-f1fb-fd2277dd61b7"
      },
      "execution_count": null,
      "outputs": [
        {
          "output_type": "stream",
          "name": "stdout",
          "text": [
            "Your query: 3 1 7 2\n",
            "4 0\n",
            "Congrats\n"
          ]
        }
      ]
    }
  ]
}